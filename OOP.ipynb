{
  "nbformat": 4,
  "nbformat_minor": 0,
  "metadata": {
    "colab": {
      "provenance": [],
      "authorship_tag": "ABX9TyNPPqAGnjlkaobzfD9ysDus",
      "include_colab_link": true
    },
    "kernelspec": {
      "name": "python3",
      "display_name": "Python 3"
    },
    "language_info": {
      "name": "python"
    }
  },
  "cells": [
    {
      "cell_type": "markdown",
      "metadata": {
        "id": "view-in-github",
        "colab_type": "text"
      },
      "source": [
        "<a href=\"https://colab.research.google.com/github/SyedSihabUsSakib/Programming-Learning-Materials/blob/main/OOP.ipynb\" target=\"_parent\"><img src=\"https://colab.research.google.com/assets/colab-badge.svg\" alt=\"Open In Colab\"/></a>"
      ]
    },
    {
      "cell_type": "markdown",
      "source": [
        "**OOP**"
      ],
      "metadata": {
        "id": "OzS5rceEIXpV"
      }
    },
    {
      "cell_type": "code",
      "source": [
        "class nahiyan:\n",
        "  def __init__(self,productName,quan,price):\n",
        "    self.name = productName\n",
        "    self.quantity = quan\n",
        "    self.price = price\n",
        "    print(f\"The product name is {self.name}\")\n",
        "  def total_price(self): #self ---> product1 object--->for this \"total = product1.total_price()\"\n",
        "    return self.quantity*self.price\n",
        "\n",
        "product1 = nahiyan(\"mobile\",2,30)\n",
        "# product1.name = \"mobile\"\n",
        "# product1.quantity = 2\n",
        "# product1.price = 30\n",
        "product2 = nahiyan(\"laptop\",3,200)\n",
        "total = product1.total_price()\n",
        "print(total)\n",
        "total = product2.total_price()\n",
        "print(total)\n",
        "\n",
        "# print(product1.name)\n",
        "# print(product1.quantity)\n",
        "# print(\"----data types----\")\n",
        "# print(type(product1))\n",
        "# print(type(product1.name))\n",
        "# print(type(product1.quantity))\n",
        "\n",
        "# -----normal convention----\n",
        "# product = int(input())\n",
        "# quantity = input()\n",
        "\n",
        "# print(type(product),type(quantity))"
      ],
      "metadata": {
        "colab": {
          "base_uri": "https://localhost:8080/"
        },
        "id": "LU68ORzdIjPt",
        "outputId": "cd4e5c76-b9e9-4620-d821-61a69915233c"
      },
      "execution_count": 20,
      "outputs": [
        {
          "output_type": "stream",
          "name": "stdout",
          "text": [
            "The product name is mobile\n",
            "The product name is laptop\n",
            "60\n",
            "600\n"
          ]
        }
      ]
    }
  ]
}